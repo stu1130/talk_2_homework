{
 "cells": [
  {
   "cell_type": "code",
   "execution_count": null,
   "metadata": {},
   "outputs": [],
   "source": [
    "%maven ai.djl:api:0.8.0\n",
    "%maven ai.djl.pytorch:pytorch-engine:0.8.0\n",
    "%maven ai.djl.pytorch:pytorch-model-zoo:0.8.0\n",
    "%maven org.slf4j:slf4j-api:1.7.26\n",
    "%maven org.slf4j:slf4j-simple:1.7.26\n",
    "%maven net.java.dev.jna:jna:5.3.0\n",
    "        \n",
    "// See https://github.com/awslabs/djl/blob/master/pytorch/pytorch-engine/README.md\n",
    "// for more PyTorch library selection options\n",
    "%maven ai.djl.pytorch:pytorch-native-auto:1.6.0"
   ]
  },
  {
   "cell_type": "code",
   "execution_count": null,
   "metadata": {},
   "outputs": [],
   "source": [
    "import ai.djl.*;\n",
    "import ai.djl.translate.*;\n",
    "import ai.djl.inference.*;\n",
    "import ai.djl.ndarray.*;\n",
    "import ai.djl.modality.*;\n",
    "import ai.djl.repository.zoo.*;\n",
    "import ai.djl.repository.zoo.*;\n",
    "import ai.djl.util.Utils;\n",
    "import ai.djl.repository.zoo.*;\n",
    "import ai.djl.modality.cv.*;\n",
    "import ai.djl.ndarray.types.*;\n",
    "import ai.djl.modality.cv.util.*;\n",
    "\n",
    "import java.io.IOException;\n",
    "import java.nio.file.Path;\n",
    "import java.nio.file.Paths;\n",
    "import java.util.List;"
   ]
  },
  {
   "cell_type": "markdown",
   "metadata": {},
   "source": [
    "1. 请完成 Criteria 代码读取项目内的`tracedd_resnet18.pt`的模型"
   ]
  },
  {
   "cell_type": "code",
   "execution_count": null,
   "metadata": {},
   "outputs": [],
   "source": [
    "public Classifications predict() throws IOException, ModelException, TranslateException {\n",
    "        Path imageFile = Paths.get(\"image.jpg\");\n",
    "        Image img = ImageFactory.getInstance().fromFile(imageFile);\n",
    "    \n",
    "        // TODO implement model loading using criteria\n",
    "        Criteria<Image, Classifications> criteria = ...\n",
    "\n",
    "        try (ZooModel<Image, Classifications> model = ModelZoo.loadModel(criteria)) {\n",
    "            try (Predictor<Image, Classifications> predictor = model.newPredictor()) {\n",
    "                return predictor.predict(img);\n",
    "            }\n",
    "        }\n",
    "    }"
   ]
  },
  {
   "cell_type": "code",
   "execution_count": null,
   "metadata": {},
   "outputs": [],
   "source": [
    "class MyTranslator implements Translator<Image, Classifications> {\n",
    "        private List<String> classes;\n",
    "        private SynsetLoader synsetLoader = new SynsetLoader(\"synset.txt\");\n",
    "\n",
    "        static final class SynsetLoader {\n",
    "            private String synsetFileName;\n",
    "\n",
    "            public SynsetLoader(String synsetFileName) {\n",
    "                this.synsetFileName = synsetFileName;\n",
    "            }\n",
    "\n",
    "            public List<String> load(Model model) throws IOException {\n",
    "                return model.getArtifact(synsetFileName, Utils::readLines);\n",
    "            }\n",
    "        }\n",
    "\n",
    "        @Override\n",
    "        public void prepare(NDManager manager, Model model) throws IOException {\n",
    "            if (classes == null) {\n",
    "                classes = synsetLoader.load(model);\n",
    "            }\n",
    "        }\n",
    "\n",
    "        @Override\n",
    "        public Batchifier getBatchifier() {\n",
    "            return Batchifier.STACK;\n",
    "        }\n",
    "\n",
    "        @Override\n",
    "        public Classifications processOutput(TranslatorContext ctx, NDList list) {\n",
    "            NDArray probabilitiesNd = list.singletonOrThrow();\n",
    "            // TODO Implement softmax here\n",
    "            return new Classifications(classes, probabilitiesNd);\n",
    "        }\n",
    "\n",
    "        @Override\n",
    "        public NDList processInput(TranslatorContext ctx, Image input) {\n",
    "            NDArray array = input.toNDArray(ctx.getNDManager(), Image.Flag.COLOR);\n",
    "            array = NDImageUtils.resize(array, 256, 256);\n",
    "            array = NDImageUtils.centerCrop(array, 224, 224);\n",
    "\n",
    "            // TODO Implement toTensor() here\n",
    "            // remove the reshape here\n",
    "            array = array.reshape(new Shape(3, 224, 224));\n",
    "\n",
    "            array = NDImageUtils.normalize(array, new float[] {0.485f, 0.456f, 0.406f}, new float[] {0.229f, 0.224f, 0.225f});\n",
    "            return new NDList(array);\n",
    "        }\n",
    "    }"
   ]
  },
  {
   "cell_type": "code",
   "execution_count": null,
   "metadata": {},
   "outputs": [],
   "source": [
    "predict()"
   ]
  },
  {
   "cell_type": "markdown",
   "metadata": {},
   "source": [
    "2. 代码里会读去一张萨摩耶的图片，但是目前的分类结果并不是萨摩耶，因为数据前处理的代码有问题，请把第77行的`reshape` 移除并且实现 toTensor()\n",
    "\n",
    "注意不能直接调用 NDImageUtils.toTensor()\n",
    "tips:\n",
    "* toTensor() 方法做了三件事\n",
    "    1. 把 NDArray 里面每个元素从0到255归一化到0到1\n",
    "    2. 把 NDArray shape 从 (Height, Width, Channel) 转成 (Channel, Height, Width)\n",
    "    3. 把数据形态从 uint8 转成 float32\n",
    "    原来的实现方法是用了`reshape`但底下的数据没有发生任何改变，我们需要用一个会将底下数据排列方式改变的算子．"
   ]
  },
  {
   "cell_type": "markdown",
   "metadata": {},
   "source": [
    "3. 完成任务 2 之后会发现分类结果正确显示出 Samoyed 但标签后面概率的值是错的，因为在`processOutput()`里面没有加上 softmax()，请实现 softmax算子\n",
    "\n",
    "\n",
    "注意不能直接调用 array.softmax()"
   ]
  },
  {
   "cell_type": "code",
   "execution_count": null,
   "metadata": {},
   "outputs": [],
   "source": []
  }
 ],
 "metadata": {
  "kernelspec": {
   "display_name": "Java",
   "language": "java",
   "name": "java"
  },
  "language_info": {
   "codemirror_mode": "java",
   "file_extension": ".jshell",
   "mimetype": "text/x-java-source",
   "name": "Java",
   "pygments_lexer": "java",
   "version": "12.0.2+10"
  }
 },
 "nbformat": 4,
 "nbformat_minor": 4
}
